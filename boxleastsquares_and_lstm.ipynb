{
 "cells": [
  {
   "cell_type": "code",
   "execution_count": 1,
   "metadata": {},
   "outputs": [],
   "source": [
    "import numpy as np\n",
    "import matplotlib.pyplot as plt\n",
    "import seaborn as sns\n",
    "\n",
    "sns.set(style=\"whitegrid\", font_scale=1)"
   ]
  },
  {
   "cell_type": "code",
   "execution_count": 2,
   "metadata": {},
   "outputs": [
    {
     "name": "stdout",
     "output_type": "stream",
     "text": [
      "(10082, 3197)\n",
      "(10082,)\n",
      "(570, 3197)\n",
      "(570,)\n"
     ]
    }
   ],
   "source": [
    "DATA_PATH = \"data/\"\n",
    "TRAIN_DATA_FILE = \"exoTrainData_upsampled.npy\"\n",
    "TRAIN_LABELS_FILE = \"exoTrainLabels_upsampled.npy\"\n",
    "TEST_DATA_FILE = \"exoTestData.npy\"\n",
    "TEST_LABELS_FILE = \"exoTestLabels.npy\"\n",
    "\n",
    "x_train = np.load(\"{}{}\".format(DATA_PATH, TRAIN_DATA_FILE))\n",
    "y_train = np.load(\"{}{}\".format(DATA_PATH, TRAIN_LABELS_FILE))\n",
    "x_test = np.load(\"{}{}\".format(DATA_PATH, TEST_DATA_FILE))\n",
    "y_test = np.load(\"{}{}\".format(DATA_PATH, TEST_LABELS_FILE))\n",
    "\n",
    "# TODO: actually get this in some time units so can set autopower arg more legitimately\n",
    "t = np.arange(x_train.shape[1])\n",
    "\n",
    "print(x_train.shape)\n",
    "print(y_train.shape)\n",
    "print(x_test.shape)\n",
    "print(y_test.shape)"
   ]
  },
  {
   "cell_type": "markdown",
   "metadata": {},
   "source": [
    "# Box Least Squares"
   ]
  },
  {
   "cell_type": "code",
   "execution_count": null,
   "metadata": {},
   "outputs": [],
   "source": [
    "from astropy.stats import BoxLeastSquares\n",
    "\n",
    "for i in range(5):\n",
    "    plt.plot(t, x_train[i])\n",
    "    plt.xlabel(\"t\")\n",
    "    plt.ylabel(\"Flux\")\n",
    "    plt.show()\n",
    "    bls = BoxLeastSquares(t, x_train[i])\n",
    "    periodogram = bls.autopower(20, minimum_n_transit=5)  # arg is the granularity of considered durations\n",
    "    plt.plot(periodogram.period, periodogram.power)\n",
    "    plt.xlabel(\"Period\")\n",
    "    plt.ylabel(\"Power\")\n",
    "    plt.show()"
   ]
  },
  {
   "cell_type": "code",
   "execution_count": null,
   "metadata": {},
   "outputs": [],
   "source": [
    "from sklearn import metrics\n",
    "\n",
    "def compute_metrics(clf, x_train, y_train, x_test, y_test):\n",
    "    print(\"Accuracy on training data:\", clf.score(x_train, y_train))\n",
    "    print(\"Accuracy on test data:\", clf.score(x_test, y_test))\n",
    "    test_predicted_probs = clf.predict_proba(x_test)[:, 1]\n",
    "    fpr, tpr, thresholds = metrics.roc_curve(y_test, test_predicted_probs)\n",
    "    plt.plot(fpr, tpr)\n",
    "    plt.xlabel(\"False Positive Rate\")\n",
    "    plt.ylabel(\"True Positive Rate\")\n",
    "    plt.show()\n",
    "    print(\"AUC:\", metrics.auc(fpr, tpr))\n",
    "    test_predicted = clf.predict(x_test)\n",
    "    print(\"F1:\", metrics.f1_score(y_test, test_predicted))\n",
    "    print(\"Test prediction frequencies:\")\n",
    "    print(np.unique(test_predicted, return_counts=True))\n",
    "    print(\"Confusion matrix:\")\n",
    "    print(metrics.confusion_matrix(y_test, test_predicted))\n",
    "    print()"
   ]
  },
  {
   "cell_type": "code",
   "execution_count": null,
   "metadata": {},
   "outputs": [],
   "source": [
    "from astropy.stats import BoxLeastSquares\n",
    "\n",
    "stat_names = [\"depth\", \"depth_odd\", \"depth_even\", \"depth_half\", \"depth_phased\"]\n",
    "\n",
    "def get_bls_features(x):\n",
    "    features = []\n",
    "    for i in range(x.shape[0]):\n",
    "        # adapted from http://docs.astropy.org/en/stable/stats/bls.html#peak-statistics\n",
    "        bls = BoxLeastSquares(t, x[i])\n",
    "        periodogram = bls.autopower(40, minimum_n_transit=5)  # arg is the granularity of considered durations\n",
    "        max_power = np.argmax(periodogram.power)\n",
    "        stats = bls.compute_stats(periodogram.period[max_power],\n",
    "                                    periodogram.duration[max_power],\n",
    "                                    periodogram.transit_time[max_power])\n",
    "        # TODO: use dataframe?\n",
    "        features.append([stats[s][0] / stats[s][1] for s in stat_names])\n",
    "        # based on https://arxiv.org/pdf/astro-ph/0206099.pdf\n",
    "#         ratios.append(stats[\"depth\"][0] / stats[\"depth\"][1])  # depth over uncertainty\n",
    "        if (i + 1) % 10 == 0:\n",
    "            print(\".\", end=\"\")\n",
    "        if (i + 1) % 500 == 0:\n",
    "            print()\n",
    "    print()\n",
    "    return np.array(features)"
   ]
  },
  {
   "cell_type": "code",
   "execution_count": null,
   "metadata": {},
   "outputs": [],
   "source": [
    "%%time\n",
    "\n",
    "bls_train_features = get_bls_features(x_train)"
   ]
  },
  {
   "cell_type": "code",
   "execution_count": null,
   "metadata": {},
   "outputs": [],
   "source": [
    "from sklearn.preprocessing import StandardScaler\n",
    "\n",
    "scaler = StandardScaler()\n",
    "bls_train_features = scaler.fit_transform(bls_train_features)"
   ]
  },
  {
   "cell_type": "code",
   "execution_count": null,
   "metadata": {},
   "outputs": [],
   "source": [
    "from sklearn.linear_model import LogisticRegression\n",
    "\n",
    "bls_logit = LogisticRegression()\n",
    "bls_logit.fit(bls_train_features, y_train)"
   ]
  },
  {
   "cell_type": "code",
   "execution_count": null,
   "metadata": {},
   "outputs": [],
   "source": [
    "print(bls_logit.coef_)\n",
    "# print(bls_train_ratios.min(), bls_train_ratios.max())\n",
    "# print(\"Ratio decision boundary:\", -bls_logit.intercept_ / bls_logit.coef_)\n",
    "\n",
    "# TODO: plot data with decision boundary"
   ]
  },
  {
   "cell_type": "code",
   "execution_count": null,
   "metadata": {},
   "outputs": [],
   "source": [
    "bls_test_features = get_bls_features(x_test)"
   ]
  },
  {
   "cell_type": "code",
   "execution_count": null,
   "metadata": {},
   "outputs": [],
   "source": [
    "bls_test_features = scaler.transform(bls_test_features)"
   ]
  },
  {
   "cell_type": "code",
   "execution_count": null,
   "metadata": {},
   "outputs": [],
   "source": [
    "# plt.scatter(np.arange(bls_test_ratios.shape[0]), bls_test_ratios.flatten(), c=y_test, cmap=\"coolwarm\")\n",
    "# plt.show()"
   ]
  },
  {
   "cell_type": "code",
   "execution_count": null,
   "metadata": {},
   "outputs": [],
   "source": [
    "compute_metrics(bls_logit, bls_train_features, y_train, bls_test_features, y_test)"
   ]
  },
  {
   "cell_type": "markdown",
   "metadata": {},
   "source": [
    "# LSTM"
   ]
  },
  {
   "cell_type": "code",
   "execution_count": 3,
   "metadata": {},
   "outputs": [
    {
     "name": "stderr",
     "output_type": "stream",
     "text": [
      "Using TensorFlow backend.\n"
     ]
    },
    {
     "name": "stdout",
     "output_type": "stream",
     "text": [
      "WARNING:tensorflow:From C:\\Users\\czhao\\Miniconda3\\envs\\ml\\lib\\site-packages\\tensorflow\\python\\framework\\op_def_library.py:263: colocate_with (from tensorflow.python.framework.ops) is deprecated and will be removed in a future version.\n",
      "Instructions for updating:\n",
      "Colocations handled automatically by placer.\n",
      "WARNING:tensorflow:From C:\\Users\\czhao\\Miniconda3\\envs\\ml\\lib\\site-packages\\keras\\backend\\tensorflow_backend.py:3445: calling dropout (from tensorflow.python.ops.nn_ops) with keep_prob is deprecated and will be removed in a future version.\n",
      "Instructions for updating:\n",
      "Please use `rate` instead of `keep_prob`. Rate should be set to `rate = 1 - keep_prob`.\n",
      "WARNING:tensorflow:From C:\\Users\\czhao\\Miniconda3\\envs\\ml\\lib\\site-packages\\tensorflow\\python\\ops\\math_ops.py:3066: to_int32 (from tensorflow.python.ops.math_ops) is deprecated and will be removed in a future version.\n",
      "Instructions for updating:\n",
      "Use tf.cast instead.\n",
      "Train on 4992 samples, validate on 544 samples\n",
      "Epoch 1/1\n",
      "4992/4992 [==============================] - 755s 151ms/step - loss: 5.2767 - acc: 0.4293 - val_loss: 0.2816 - val_acc: 0.7335\n",
      "Train on 4992 samples, validate on 544 samples\n",
      "Epoch 1/1\n",
      "4992/4992 [==============================] - 690s 138ms/step - loss: 3.8612 - acc: 0.4661 - val_loss: 0.4148 - val_acc: 0.7482\n",
      "Train on 4992 samples, validate on 544 samples\n",
      "Epoch 1/1\n",
      "4992/4992 [==============================] - 693s 139ms/step - loss: 2.5944 - acc: 0.4842 - val_loss: 0.4928 - val_acc: 0.7188\n",
      "Train on 4992 samples, validate on 544 samples\n",
      "Epoch 1/1\n",
      "4992/4992 [==============================] - 686s 137ms/step - loss: 1.5505 - acc: 0.5040 - val_loss: 0.6072 - val_acc: 0.7077\n",
      "Train on 4992 samples, validate on 544 samples\n",
      "Epoch 1/1\n",
      "4992/4992 [==============================] - 687s 138ms/step - loss: 1.4479 - acc: 0.4998 - val_loss: 0.5340 - val_acc: 0.7188\n",
      "Train on 4992 samples, validate on 544 samples\n",
      "Epoch 1/1\n",
      "4992/4992 [==============================] - 688s 138ms/step - loss: 1.3639 - acc: 0.5180 - val_loss: 0.5514 - val_acc: 0.6857\n",
      "Train on 4992 samples, validate on 544 samples\n",
      "Epoch 1/1\n",
      "4992/4992 [==============================] - 685s 137ms/step - loss: 1.1252 - acc: 0.5164 - val_loss: 0.5548 - val_acc: 0.6967\n",
      "Train on 4992 samples, validate on 544 samples\n",
      "Epoch 1/1\n",
      "4992/4992 [==============================] - 685s 137ms/step - loss: 0.9501 - acc: 0.5349 - val_loss: 0.5892 - val_acc: 0.6471\n",
      "Train on 4992 samples, validate on 544 samples\n",
      "Epoch 1/1\n",
      "4992/4992 [==============================] - 684s 137ms/step - loss: 0.9295 - acc: 0.5437 - val_loss: 0.6265 - val_acc: 0.5717\n",
      "Train on 4992 samples, validate on 544 samples\n",
      "Epoch 1/1\n",
      "4992/4992 [==============================] - 685s 137ms/step - loss: 0.8771 - acc: 0.5561 - val_loss: 0.6560 - val_acc: 0.5221\n",
      "Train on 4992 samples, validate on 544 samples\n",
      "Epoch 1/1\n",
      "4992/4992 [==============================] - 686s 138ms/step - loss: 0.8604 - acc: 0.5619 - val_loss: 0.6725 - val_acc: 0.4908\n",
      "Train on 4992 samples, validate on 544 samples\n",
      "Epoch 1/1\n",
      "4992/4992 [==============================] - 686s 137ms/step - loss: 0.8052 - acc: 0.5711 - val_loss: 0.6590 - val_acc: 0.5092\n",
      "Train on 4992 samples, validate on 544 samples\n",
      "Epoch 1/1\n",
      "4992/4992 [==============================] - 685s 137ms/step - loss: 0.7663 - acc: 0.5885 - val_loss: 0.6579 - val_acc: 0.4871\n",
      "Train on 4992 samples, validate on 544 samples\n",
      "Epoch 1/1\n",
      "4992/4992 [==============================] - 688s 138ms/step - loss: 0.7994 - acc: 0.5333 - val_loss: 0.6432 - val_acc: 0.5276\n",
      "Train on 4992 samples, validate on 544 samples\n",
      "Epoch 1/1\n",
      "4992/4992 [==============================] - 686s 137ms/step - loss: 0.7771 - acc: 0.5335 - val_loss: 0.6642 - val_acc: 0.5092\n",
      "Train on 4992 samples, validate on 544 samples\n",
      "Epoch 1/1\n",
      "4992/4992 [==============================] - 685s 137ms/step - loss: 0.7486 - acc: 0.5803 - val_loss: 0.6453 - val_acc: 0.5147\n",
      "Train on 4992 samples, validate on 544 samples\n",
      "Epoch 1/1\n",
      "4992/4992 [==============================] - 683s 137ms/step - loss: 0.7312 - acc: 0.5919 - val_loss: 0.6388 - val_acc: 0.5239\n",
      "Train on 4992 samples, validate on 544 samples\n",
      "Epoch 1/1\n",
      "4992/4992 [==============================] - 684s 137ms/step - loss: 0.7087 - acc: 0.5931 - val_loss: 0.6322 - val_acc: 0.5404\n",
      "Train on 4992 samples, validate on 544 samples\n",
      "Epoch 1/1\n",
      "4992/4992 [==============================] - 686s 137ms/step - loss: 0.7182 - acc: 0.5893 - val_loss: 0.6210 - val_acc: 0.5533\n",
      "Train on 4992 samples, validate on 544 samples\n",
      "Epoch 1/1\n",
      "4992/4992 [==============================] - 686s 137ms/step - loss: 0.7105 - acc: 0.6052 - val_loss: 0.6059 - val_acc: 0.5846\n",
      "Train on 4992 samples, validate on 544 samples\n",
      "Epoch 1/1\n",
      "4992/4992 [==============================] - 691s 138ms/step - loss: 0.7240 - acc: 0.5869 - val_loss: 0.5813 - val_acc: 0.6213\n",
      "Train on 4992 samples, validate on 544 samples\n",
      "Epoch 1/1\n",
      "4992/4992 [==============================] - 690s 138ms/step - loss: 0.7187 - acc: 0.6110 - val_loss: 0.5806 - val_acc: 0.6268\n",
      "Train on 4992 samples, validate on 544 samples\n",
      "Epoch 1/1\n",
      "4992/4992 [==============================] - 683s 137ms/step - loss: 0.6977 - acc: 0.6062 - val_loss: 0.5738 - val_acc: 0.6415\n",
      "Train on 4992 samples, validate on 544 samples\n",
      "Epoch 1/1\n",
      "4992/4992 [==============================] - 685s 137ms/step - loss: 0.6946 - acc: 0.6060 - val_loss: 0.5687 - val_acc: 0.6415\n",
      "Train on 4992 samples, validate on 544 samples\n",
      "Epoch 1/1\n",
      "4992/4992 [==============================] - 683s 137ms/step - loss: 0.7283 - acc: 0.5717 - val_loss: 0.5573 - val_acc: 0.6507\n",
      "Train on 4992 samples, validate on 544 samples\n",
      "Epoch 1/1\n",
      "4992/4992 [==============================] - 681s 136ms/step - loss: 0.7097 - acc: 0.5709 - val_loss: 0.5570 - val_acc: 0.6710\n",
      "Train on 4992 samples, validate on 544 samples\n",
      "Epoch 1/1\n",
      "4992/4992 [==============================] - 687s 138ms/step - loss: 0.7147 - acc: 0.5825 - val_loss: 0.5699 - val_acc: 0.6765\n",
      "Train on 4992 samples, validate on 544 samples\n",
      "Epoch 1/1\n",
      "4992/4992 [==============================] - 683s 137ms/step - loss: 0.6969 - acc: 0.5843 - val_loss: 0.5432 - val_acc: 0.6930\n",
      "Train on 4992 samples, validate on 544 samples\n",
      "Epoch 1/1\n",
      "4992/4992 [==============================] - 685s 137ms/step - loss: 0.6780 - acc: 0.5958 - val_loss: 0.5167 - val_acc: 0.7445\n",
      "Train on 4992 samples, validate on 544 samples\n",
      "Epoch 1/1\n",
      "4992/4992 [==============================] - 686s 137ms/step - loss: 0.6834 - acc: 0.6040 - val_loss: 0.5434 - val_acc: 0.6985\n",
      "Wall time: 5h 44min 6s\n"
     ]
    }
   ],
   "source": [
    "%%time\n",
    "\n",
    "from keras.models import Sequential\n",
    "from keras.layers import LSTM, Dense\n",
    "from keras.optimizers import Adam\n",
    "\n",
    "BATCH_SIZE = 32\n",
    "N_EPOCHS = 30\n",
    "N_TRAIN = 5000 // BATCH_SIZE * BATCH_SIZE\n",
    "N_TEST = x_test.shape[0] // BATCH_SIZE * BATCH_SIZE\n",
    "\n",
    "model = Sequential([\n",
    "    LSTM(16, input_shape=(x_train.shape[1], 1), batch_input_shape=(BATCH_SIZE, x_train.shape[1], 1), stateful=True, dropout=0.2, recurrent_dropout=0.2),\n",
    "    Dense(1),\n",
    "])\n",
    "# TODO: do balancing in a generator\n",
    "model.compile(optimizer=Adam(3e-4), loss = 'binary_crossentropy', metrics=['accuracy'])\n",
    "train_indices = np.random.choice(x_train.shape[0], N_TRAIN, replace=False)\n",
    "x_train_lstm = x_train[train_indices, :, np.newaxis]\n",
    "y_train_lstm = y_train[train_indices]\n",
    "x_test_lstm = x_test[:N_TEST, :, np.newaxis]\n",
    "y_test_lstm = y_test[:N_TEST]\n",
    "train_accuracies = []\n",
    "test_accuracies = []\n",
    "for i in range(N_EPOCHS):\n",
    "    hist = model.fit(x_train_lstm, y_train_lstm, validation_data=(x_test_lstm, y_test_lstm), epochs=1, batch_size=BATCH_SIZE, shuffle=False)\n",
    "    model.reset_states()\n",
    "    train_accuracies.append(hist.history[\"acc\"])\n",
    "    test_accuracies.append(hist.history[\"val_acc\"])"
   ]
  },
  {
   "cell_type": "code",
   "execution_count": 4,
   "metadata": {},
   "outputs": [
    {
     "data": {
      "image/png": "[encoded data removed]",
      "text/plain": [
       "<Figure size 432x288 with 1 Axes>"
      ]
     },
     "metadata": {
      "needs_background": "light"
     },
     "output_type": "display_data"
    }
   ],
   "source": [
    "plt.plot(train_accuracies, label=\"Training accuracy\")\n",
    "plt.plot(test_accuracies, label=\"Test accuracy\")\n",
    "plt.legend()\n",
    "plt.show()"
   ]
  },
  {
   "cell_type": "code",
   "execution_count": null,
   "metadata": {},
   "outputs": [],
   "source": [
    "# 16 neurons, no dropout, 10 epochs, 3000 training samples, 1e-3\n",
    "# 0.7144\n",
    "# 0.5276\n",
    "\n",
    "# same as above, but with 0.4 dropout and recurrent_dropout, 1e-3\n",
    "# 0.5242\n",
    "# 0.5478\n",
    "\n",
    "# 16 neurons, 0.4 dropout, 10 epochs, 3000 training samples, 2e-4\n",
    "# 0.4657\n",
    "# 0.8327\n",
    "\n",
    "# 32 neurons, 0.4 dropout, 10 epochs, 3000 training samples, 3e-4\n",
    "# 0.5360\n",
    "# 0.6618\n",
    "\n",
    "# 16 neurons, 0.2 dropout, 30 epochs, 5000 training samples, 3e-4\n",
    "# 0.6040\n",
    "# 0.6985"
   ]
  }
 ],
 "metadata": {
  "kernelspec": {
   "display_name": "Python 3",
   "language": "python",
   "name": "python3"
  },
  "language_info": {
   "codemirror_mode": {
    "name": "ipython",
    "version": 3
   },
   "file_extension": ".py",
   "mimetype": "text/x-python",
   "name": "python",
   "nbconvert_exporter": "python",
   "pygments_lexer": "ipython3",
   "version": "3.6.8"
  }
 },
 "nbformat": 4,
 "nbformat_minor": 2
}
