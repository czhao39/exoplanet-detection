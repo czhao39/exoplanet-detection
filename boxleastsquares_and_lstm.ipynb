{
 "cells": [
  {
   "cell_type": "code",
   "execution_count": 1,
   "metadata": {},
   "outputs": [],
   "source": [
    "import numpy as np\n",
    "import matplotlib.pyplot as plt\n",
    "import seaborn as sns\n",
    "\n",
    "sns.set(style=\"whitegrid\", font_scale=1)"
   ]
  },
  {
   "cell_type": "code",
   "execution_count": 2,
   "metadata": {},
   "outputs": [
    {
     "name": "stdout",
     "output_type": "stream",
     "text": [
      "(10082, 3197)\n",
      "(10082,)\n",
      "(570, 3197)\n",
      "(570,)\n"
     ]
    }
   ],
   "source": [
    "DATA_PATH = \"data/\"\n",
    "TRAIN_DATA_FILE = \"exoTrainData_upsampled.npy\"\n",
    "TRAIN_LABELS_FILE = \"exoTrainLabels_upsampled.npy\"\n",
    "TEST_DATA_FILE = \"exoTestData.npy\"\n",
    "TEST_LABELS_FILE = \"exoTestLabels.npy\"\n",
    "\n",
    "x_train = np.load(\"{}{}\".format(DATA_PATH, TRAIN_DATA_FILE))\n",
    "y_train = np.load(\"{}{}\".format(DATA_PATH, TRAIN_LABELS_FILE))\n",
    "x_test = np.load(\"{}{}\".format(DATA_PATH, TEST_DATA_FILE))\n",
    "y_test = np.load(\"{}{}\".format(DATA_PATH, TEST_LABELS_FILE))\n",
    "\n",
    "# TODO: actually get this in some time units so can set autopower arg more legitimately\n",
    "t = np.arange(x_train.shape[1])\n",
    "\n",
    "print(x_train.shape)\n",
    "print(y_train.shape)\n",
    "print(x_test.shape)\n",
    "print(y_test.shape)"
   ]
  },
  {
   "cell_type": "markdown",
   "metadata": {},
   "source": [
    "# Box Least Squares"
   ]
  },
  {
   "cell_type": "code",
   "execution_count": null,
   "metadata": {},
   "outputs": [],
   "source": [
    "from astropy.stats import BoxLeastSquares\n",
    "\n",
    "for i in range(5):\n",
    "    plt.plot(t, x_train[i])\n",
    "    plt.xlabel(\"t\")\n",
    "    plt.ylabel(\"Flux\")\n",
    "    plt.show()\n",
    "    bls = BoxLeastSquares(t, x_train[i])\n",
    "    periodogram = bls.autopower(20, minimum_n_transit=5)  # arg is the granularity of considered durations\n",
    "    plt.plot(periodogram.period, periodogram.power)\n",
    "    plt.xlabel(\"Period\")\n",
    "    plt.ylabel(\"Power\")\n",
    "    plt.show()"
   ]
  },
  {
   "cell_type": "code",
   "execution_count": null,
   "metadata": {},
   "outputs": [],
   "source": [
    "from sklearn import metrics\n",
    "\n",
    "def compute_metrics(clf, x_train, y_train, x_test, y_test):\n",
    "    print(\"Accuracy on training data:\", clf.score(x_train, y_train))\n",
    "    print(\"Accuracy on test data:\", clf.score(x_test, y_test))\n",
    "    test_predicted_probs = clf.predict_proba(x_test)[:, 1]\n",
    "    fpr, tpr, thresholds = metrics.roc_curve(y_test, test_predicted_probs)\n",
    "    plt.plot(fpr, tpr)\n",
    "    plt.xlabel(\"False Positive Rate\")\n",
    "    plt.ylabel(\"True Positive Rate\")\n",
    "    plt.show()\n",
    "    print(\"AUC:\", metrics.auc(fpr, tpr))\n",
    "    test_predicted = clf.predict(x_test)\n",
    "    print(\"F1:\", metrics.f1_score(y_test, test_predicted))\n",
    "    print(\"Test prediction frequencies:\")\n",
    "    print(np.unique(test_predicted, return_counts=True))\n",
    "    print(\"Confusion matrix:\")\n",
    "    print(metrics.confusion_matrix(y_test, test_predicted))\n",
    "    print()"
   ]
  },
  {
   "cell_type": "code",
   "execution_count": null,
   "metadata": {},
   "outputs": [],
   "source": [
    "from astropy.stats import BoxLeastSquares\n",
    "\n",
    "stat_names = [\"depth\", \"depth_odd\", \"depth_even\", \"depth_half\", \"depth_phased\"]\n",
    "\n",
    "def get_bls_features(x):\n",
    "    features = []\n",
    "    for i in range(x.shape[0]):\n",
    "        # adapted from http://docs.astropy.org/en/stable/stats/bls.html#peak-statistics\n",
    "        bls = BoxLeastSquares(t, x[i])\n",
    "        periodogram = bls.autopower(40, minimum_n_transit=5)  # arg is the granularity of considered durations\n",
    "        max_power = np.argmax(periodogram.power)\n",
    "        stats = bls.compute_stats(periodogram.period[max_power],\n",
    "                                    periodogram.duration[max_power],\n",
    "                                    periodogram.transit_time[max_power])\n",
    "        # TODO: use dataframe?\n",
    "        features.append([stats[s][0] / stats[s][1] for s in stat_names])\n",
    "        # based on https://arxiv.org/pdf/astro-ph/0206099.pdf\n",
    "#         ratios.append(stats[\"depth\"][0] / stats[\"depth\"][1])  # depth over uncertainty\n",
    "        if (i + 1) % 10 == 0:\n",
    "            print(\".\", end=\"\")\n",
    "        if (i + 1) % 500 == 0:\n",
    "            print()\n",
    "    print()\n",
    "    return np.array(features)"
   ]
  },
  {
   "cell_type": "code",
   "execution_count": null,
   "metadata": {},
   "outputs": [],
   "source": [
    "%%time\n",
    "\n",
    "bls_train_features = get_bls_features(x_train)"
   ]
  },
  {
   "cell_type": "code",
   "execution_count": null,
   "metadata": {},
   "outputs": [],
   "source": [
    "from sklearn.preprocessing import StandardScaler\n",
    "\n",
    "scaler = StandardScaler()\n",
    "bls_train_features = scaler.fit_transform(bls_train_features)"
   ]
  },
  {
   "cell_type": "code",
   "execution_count": null,
   "metadata": {},
   "outputs": [],
   "source": [
    "from sklearn.linear_model import LogisticRegression\n",
    "\n",
    "bls_logit = LogisticRegression()\n",
    "bls_logit.fit(bls_train_features, y_train)"
   ]
  },
  {
   "cell_type": "code",
   "execution_count": null,
   "metadata": {},
   "outputs": [],
   "source": [
    "print(bls_logit.coef_)\n",
    "# print(bls_train_ratios.min(), bls_train_ratios.max())\n",
    "# print(\"Ratio decision boundary:\", -bls_logit.intercept_ / bls_logit.coef_)\n",
    "\n",
    "# TODO: plot data with decision boundary"
   ]
  },
  {
   "cell_type": "code",
   "execution_count": null,
   "metadata": {},
   "outputs": [],
   "source": [
    "bls_test_features = get_bls_features(x_test)"
   ]
  },
  {
   "cell_type": "code",
   "execution_count": null,
   "metadata": {},
   "outputs": [],
   "source": [
    "bls_test_features = scaler.transform(bls_test_features)"
   ]
  },
  {
   "cell_type": "code",
   "execution_count": null,
   "metadata": {},
   "outputs": [],
   "source": [
    "# plt.scatter(np.arange(bls_test_ratios.shape[0]), bls_test_ratios.flatten(), c=y_test, cmap=\"coolwarm\")\n",
    "# plt.show()"
   ]
  },
  {
   "cell_type": "code",
   "execution_count": null,
   "metadata": {},
   "outputs": [],
   "source": [
    "compute_metrics(bls_logit, bls_train_features, y_train, bls_test_features, y_test)"
   ]
  },
  {
   "cell_type": "markdown",
   "metadata": {},
   "source": [
    "# LSTM"
   ]
  },
  {
   "cell_type": "code",
   "execution_count": 12,
   "metadata": {},
   "outputs": [
    {
     "name": "stdout",
     "output_type": "stream",
     "text": [
      "Train on 2976 samples, validate on 544 samples\n",
      "Epoch 1/1\n",
      "2976/2976 [==============================] - 102s 34ms/step - loss: 3.1901 - acc: 0.4741 - val_loss: 0.8583 - val_acc: 0.7224\n",
      "Train on 2976 samples, validate on 544 samples\n",
      "Epoch 1/1\n",
      "2976/2976 [==============================] - 296s 99ms/step - loss: 2.0071 - acc: 0.5188 - val_loss: 0.6827 - val_acc: 0.7518\n",
      "Train on 2976 samples, validate on 544 samples\n",
      "Epoch 1/1\n",
      "2976/2976 [==============================] - 99s 33ms/step - loss: 1.7436 - acc: 0.5349 - val_loss: 0.5149 - val_acc: 0.8235\n",
      "Train on 2976 samples, validate on 544 samples\n",
      "Epoch 1/1\n",
      "2976/2976 [==============================] - 99s 33ms/step - loss: 1.6559 - acc: 0.5309 - val_loss: 0.4861 - val_acc: 0.8346\n",
      "Train on 2976 samples, validate on 544 samples\n",
      "Epoch 1/1\n",
      "2976/2976 [==============================] - 105s 35ms/step - loss: 1.5023 - acc: 0.5356 - val_loss: 0.4820 - val_acc: 0.8235\n",
      "Train on 2976 samples, validate on 544 samples\n",
      "Epoch 1/1\n",
      "2976/2976 [==============================] - 131s 44ms/step - loss: 1.3958 - acc: 0.5349 - val_loss: 0.5206 - val_acc: 0.8033\n",
      "Train on 2976 samples, validate on 544 samples\n",
      "Epoch 1/1\n",
      "2976/2976 [==============================] - 100s 34ms/step - loss: 1.1465 - acc: 0.5373 - val_loss: 0.7044 - val_acc: 0.5551\n",
      "Train on 2976 samples, validate on 544 samples\n",
      "Epoch 1/1\n",
      "2976/2976 [==============================] - 102s 34ms/step - loss: 1.0779 - acc: 0.5407 - val_loss: 0.6102 - val_acc: 0.6838\n",
      "Train on 2976 samples, validate on 544 samples\n",
      "Epoch 1/1\n",
      "2976/2976 [==============================] - 104s 35ms/step - loss: 1.0552 - acc: 0.5454 - val_loss: 0.6216 - val_acc: 0.6397\n",
      "Train on 2976 samples, validate on 544 samples\n",
      "Epoch 1/1\n",
      "2976/2976 [==============================] - 138s 47ms/step - loss: 1.0536 - acc: 0.5360 - val_loss: 0.5901 - val_acc: 0.6618\n",
      "CPU times: user 33min 11s, sys: 5min 32s, total: 38min 43s\n",
      "Wall time: 21min 16s\n"
     ]
    }
   ],
   "source": [
    "%%time\n",
    "\n",
    "from keras.models import Sequential\n",
    "from keras.layers import LSTM, Dense\n",
    "from keras.optimizers import Adam\n",
    "\n",
    "BATCH_SIZE = 32\n",
    "N_EPOCHS = 30\n",
    "N_TRAIN = 5000 // BATCH_SIZE * BATCH_SIZE\n",
    "N_TEST = x_test.shape[0] // BATCH_SIZE * BATCH_SIZE\n",
    "\n",
    "model = Sequential([\n",
    "    LSTM(16, input_shape=(x_train.shape[1], 1), batch_input_shape=(BATCH_SIZE, x_train.shape[1], 1), stateful=True, dropout=0.2, recurrent_dropout=0.2),\n",
    "    Dense(1),\n",
    "])\n",
    "# TODO: do balancing in a generator\n",
    "model.compile(optimizer=Adam(3e-4), loss = 'binary_crossentropy', metrics=['accuracy'])\n",
    "train_indices = np.random.choice(x_train.shape[0], N_TRAIN, replace=False)\n",
    "x_train_lstm = x_train[train_indices, :, np.newaxis]\n",
    "y_train_lstm = y_train[train_indices]\n",
    "x_test_lstm = x_test[:N_TEST, :, np.newaxis]\n",
    "y_test_lstm = y_test[:N_TEST]\n",
    "train_accuracies = []\n",
    "test_accuracies = []\n",
    "for i in range(N_EPOCHS):\n",
    "    hist = model.fit(x_train_lstm, y_train_lstm, validation_data=(x_test_lstm, y_test_lstm), epochs=1, batch_size=BATCH_SIZE, shuffle=False)\n",
    "    model.reset_states()\n",
    "    train_accuracies.append(hist.history[\"acc\"])\n",
    "    test_accuracies.append(hist.history[\"val_acc\"])"
   ]
  },
  {
   "cell_type": "code",
   "execution_count": 13,
   "metadata": {},
   "outputs": [
    {
     "data": {
      "image/png": "[encoded data removed]",
      "text/plain": [
       "<Figure size 432x288 with 1 Axes>"
      ]
     },
     "metadata": {
      "needs_background": "light"
     },
     "output_type": "display_data"
    }
   ],
   "source": [
    "plt.plot(train_accuracies, label=\"Training accuracy\")\n",
    "plt.plot(test_accuracies, label=\"Test accuracy\")\n",
    "plt.legend()\n",
    "plt.show()"
   ]
  },
  {
   "cell_type": "code",
   "execution_count": null,
   "metadata": {},
   "outputs": [],
   "source": [
    "# 16 neurons, no dropout, 10 epochs, 3000 training samples, 1e-3\n",
    "# 0.7144\n",
    "# 0.5276\n",
    "\n",
    "# same as above, but with 0.4 dropout and recurrent_dropout, 1e-3\n",
    "# 0.5242\n",
    "# 0.5478\n",
    "\n",
    "# 16 neurons, 0.4 dropout, 10 epochs, 3000 training samples, 2e-4\n",
    "# 0.4657\n",
    "# 0.8327\n",
    "\n",
    "# 32 neurons, 0.4 dropout, 10 epochs, 3000 training samples, 3e-4\n",
    "# 0.5360\n",
    "# 0.6618\n",
    "\n",
    "# 0.2 dropout, 30 epochs, 5000 training samples, 3e-4\n",
    "# "
   ]
  }
 ],
 "metadata": {
  "kernelspec": {
   "display_name": "Python 3",
   "language": "python",
   "name": "python3"
  },
  "language_info": {
   "codemirror_mode": {
    "name": "ipython",
    "version": 3
   },
   "file_extension": ".py",
   "mimetype": "text/x-python",
   "name": "python",
   "nbconvert_exporter": "python",
   "pygments_lexer": "ipython3",
   "version": "3.7.2"
  }
 },
 "nbformat": 4,
 "nbformat_minor": 2
}
